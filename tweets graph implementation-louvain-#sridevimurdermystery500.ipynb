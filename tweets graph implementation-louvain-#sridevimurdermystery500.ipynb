{
 "cells": [
  {
   "cell_type": "code",
   "execution_count": 1,
   "metadata": {},
   "outputs": [
    {
     "name": "stdout",
     "output_type": "stream",
     "text": [
      "Requirement already satisfied: tweepy in c:\\users\\sumit\\anaconda3\\lib\\site-packages (3.8.0)\n",
      "Requirement already satisfied: requests>=2.11.1 in c:\\users\\sumit\\anaconda3\\lib\\site-packages (from tweepy) (2.22.0)\n",
      "Requirement already satisfied: requests-oauthlib>=0.7.0 in c:\\users\\sumit\\anaconda3\\lib\\site-packages (from tweepy) (1.3.0)\n",
      "Requirement already satisfied: PySocks>=1.5.7 in c:\\users\\sumit\\anaconda3\\lib\\site-packages (from tweepy) (1.7.1)\n",
      "Requirement already satisfied: six>=1.10.0 in c:\\users\\sumit\\anaconda3\\lib\\site-packages (from tweepy) (1.14.0)\n",
      "Requirement already satisfied: chardet<3.1.0,>=3.0.2 in c:\\users\\sumit\\anaconda3\\lib\\site-packages (from requests>=2.11.1->tweepy) (3.0.4)\n",
      "Requirement already satisfied: idna<2.9,>=2.5 in c:\\users\\sumit\\anaconda3\\lib\\site-packages (from requests>=2.11.1->tweepy) (2.8)\n",
      "Requirement already satisfied: urllib3!=1.25.0,!=1.25.1,<1.26,>=1.21.1 in c:\\users\\sumit\\anaconda3\\lib\\site-packages (from requests>=2.11.1->tweepy) (1.25.8)\n",
      "Requirement already satisfied: certifi>=2017.4.17 in c:\\users\\sumit\\anaconda3\\lib\\site-packages (from requests>=2.11.1->tweepy) (2019.11.28)\n",
      "Requirement already satisfied: oauthlib>=3.0.0 in c:\\users\\sumit\\anaconda3\\lib\\site-packages (from requests-oauthlib>=0.7.0->tweepy) (3.1.0)\n",
      "Requirement already satisfied: vaderSentiment in c:\\users\\sumit\\anaconda3\\lib\\site-packages (3.3.2)\n",
      "Requirement already satisfied: requests in c:\\users\\sumit\\anaconda3\\lib\\site-packages (from vaderSentiment) (2.22.0)\n",
      "Requirement already satisfied: certifi>=2017.4.17 in c:\\users\\sumit\\anaconda3\\lib\\site-packages (from requests->vaderSentiment) (2019.11.28)\n",
      "Requirement already satisfied: idna<2.9,>=2.5 in c:\\users\\sumit\\anaconda3\\lib\\site-packages (from requests->vaderSentiment) (2.8)\n",
      "Requirement already satisfied: chardet<3.1.0,>=3.0.2 in c:\\users\\sumit\\anaconda3\\lib\\site-packages (from requests->vaderSentiment) (3.0.4)\n",
      "Requirement already satisfied: urllib3!=1.25.0,!=1.25.1,<1.26,>=1.21.1 in c:\\users\\sumit\\anaconda3\\lib\\site-packages (from requests->vaderSentiment) (1.25.8)\n",
      "Requirement already satisfied: python-louvain in c:\\users\\sumit\\anaconda3\\lib\\site-packages (0.14)\n",
      "Requirement already satisfied: numpy in c:\\users\\sumit\\anaconda3\\lib\\site-packages (from python-louvain) (1.18.1)\n",
      "Requirement already satisfied: networkx in c:\\users\\sumit\\anaconda3\\lib\\site-packages (from python-louvain) (2.4)\n",
      "Requirement already satisfied: decorator>=4.3.0 in c:\\users\\sumit\\anaconda3\\lib\\site-packages (from networkx->python-louvain) (4.4.1)\n"
     ]
    }
   ],
   "source": [
    "!pip install tweepy\n",
    "!pip install vaderSentiment\n",
    "!pip install python-louvain"
   ]
  },
  {
   "cell_type": "code",
   "execution_count": 1,
   "metadata": {},
   "outputs": [],
   "source": [
    "import csv\n",
    "import re\n",
    "import string\n",
    "\n",
    "with open('C:/Users/user/data/#sridevideathmystery.csv', encoding=\"utf8\") as csvfile:\n",
    "    data = list(csv.reader(csvfile))\n",
    "\n",
    "list_of_tweets = []\n",
    "for i in range(1, len(data)):\n",
    "    \n",
    "    tweet = data[i][3]\n",
    "\n",
    "    # remove \\n from the end after every sentence\n",
    "    tweet = tweet.strip('\\n')\n",
    "\n",
    "    # Remove any word that starts with the symbol @\n",
    "    tweet = \" \".join(filter(lambda x: x[0] != '@', tweet.split()))\n",
    "\n",
    "    # Remove any URL\n",
    "    tweet = re.sub(r\"http\\S+\", \"\", tweet)\n",
    "    tweet = re.sub(r\"www\\S+\", \"\", tweet)\n",
    "\n",
    "    # remove colons from the end of the sentences (if any) after removing url\n",
    "    tweet = tweet.strip()\n",
    "    tweet_len = len(tweet)\n",
    "    if tweet_len > 0:\n",
    "        if tweet[len(tweet) - 1] == ':':\n",
    "            tweet = tweet[:len(tweet) - 1]\n",
    "\n",
    "    # Remove any hash-tags symbols\n",
    "    tweet = tweet.replace('#', '')\n",
    "\n",
    "    # Convert every word to lowercase\n",
    "    tweet = tweet.lower()\n",
    "\n",
    "    # remove punctuations\n",
    "    tweet = tweet.translate(str.maketrans('', '', string.punctuation))\n",
    "\n",
    "    # trim extra spaces\n",
    "    tweet = \" \".join(tweet.split())\n",
    "\n",
    "    # convert each tweet from string type to as list<string> using \" \" as a delimiter\n",
    "    list_of_tweets.append(tweet.split(' '))\n",
    "    \n",
    "tweets_exp = list_of_tweets[:500]\n",
    "tweets_abs = list_of_tweets[:500]"
   ]
  },
  {
   "cell_type": "code",
   "execution_count": 2,
   "metadata": {},
   "outputs": [
    {
     "name": "stdout",
     "output_type": "stream",
     "text": [
      "found 24258 tweets\n"
     ]
    }
   ],
   "source": [
    "print('found %d tweets' % len(list_of_tweets))"
   ]
  },
  {
   "cell_type": "code",
   "execution_count": 3,
   "metadata": {},
   "outputs": [],
   "source": [
    "#getting expression words from pwords and nwords file\n",
    "\n",
    "f = open('C:/Users/user/data/pwords.txt', \"r\", encoding=\"utf8\")\n",
    "pwords = list(f)\n",
    "    \n",
    "f = open('C:/Users/user/data/nwords.txt', \"r\", encoding=\"utf8\")\n",
    "nwords = list(f)\n",
    "\n",
    "for i in range(len(pwords)):\n",
    "    pwords[i] = pwords[i].strip('\\n')\n",
    "for i in range(len(nwords)):\n",
    "    nwords[i] = nwords[i].strip('\\n')"
   ]
  },
  {
   "cell_type": "code",
   "execution_count": 4,
   "metadata": {},
   "outputs": [],
   "source": [
    "#removing expression words from tweets\n",
    "for n,text in enumerate(tweets_abs):  \n",
    "    ntext = []\n",
    "    for word in text:\n",
    "        if word not in pwords and word not in nwords:\n",
    "            ntext.append(word) \n",
    "    tweets_abs[n] = ntext\n",
    "    \n",
    "for n,text in enumerate(tweets_exp):  \n",
    "    ntext = []\n",
    "    for word in text:\n",
    "        if word in pwords or word in nwords:\n",
    "            ntext.append(word) \n",
    "    tweets_exp[n] = ntext\n",
    "    \n",
    "#joining the words again into sentences\n",
    "# seperator = ' '\n",
    "# for n,text in enumerate(tweets_abs):\n",
    "#     tweets_abs[n] = seperator.join(text)\n",
    "\n",
    "tweets_abs = [' '.join(i) for i in tweets_abs]\n",
    "tweets_exp = [' '.join(i) for i in tweets_exp]"
   ]
  },
  {
   "cell_type": "code",
   "execution_count": 5,
   "metadata": {},
   "outputs": [],
   "source": [
    "#working on abstraction score(tweets_abs)........................................................................"
   ]
  },
  {
   "cell_type": "code",
   "execution_count": 6,
   "metadata": {},
   "outputs": [
    {
     "name": "stdout",
     "output_type": "stream",
     "text": [
      "[[0.18455432 0.18455432 0.         ... 0.         0.55366296 0.        ]\n",
      " [0.18455432 0.18455432 0.         ... 0.         0.55366296 0.        ]\n",
      " [0.18455432 0.18455432 0.         ... 0.         0.55366296 0.        ]\n",
      " ...\n",
      " [0.         0.         0.         ... 0.32313638 0.         0.16156819]\n",
      " [0.         0.         0.         ... 0.32313638 0.         0.16156819]\n",
      " [0.         0.         0.         ... 0.32313638 0.         0.16156819]]\n",
      "[[1.         1.         1.         ... 0.06703506 0.06703506 0.06703506]\n",
      " [1.         1.         1.         ... 0.06703506 0.06703506 0.06703506]\n",
      " [1.         1.         1.         ... 0.06703506 0.06703506 0.06703506]\n",
      " ...\n",
      " [0.06703506 0.06703506 0.06703506 ... 1.         1.         1.        ]\n",
      " [0.06703506 0.06703506 0.06703506 ... 1.         1.         1.        ]\n",
      " [0.06703506 0.06703506 0.06703506 ... 1.         1.         1.        ]]\n"
     ]
    }
   ],
   "source": [
    "from sklearn.feature_extraction.text import CountVectorizer\n",
    "from sklearn.feature_extraction.text import TfidfVectorizer\n",
    "from sklearn.metrics.pairwise import cosine_similarity\n",
    "import pandas as pd\n",
    "\n",
    "tfidf_vectorizer = TfidfVectorizer(stop_words='english')\n",
    "tfidf_vectorizer = TfidfVectorizer()\n",
    "sparse_matrix = tfidf_vectorizer.fit_transform(tweets_abs)\n",
    "\n",
    "doc_term_matrix = sparse_matrix.todense()\n",
    "df_abs = pd.DataFrame(doc_term_matrix, \n",
    "                  columns=tfidf_vectorizer.get_feature_names())\n",
    "print(doc_term_matrix)\n",
    "print(cosine_similarity(df_abs))"
   ]
  },
  {
   "cell_type": "code",
   "execution_count": 24,
   "metadata": {
    "scrolled": true
   },
   "outputs": [],
   "source": [
    "import matplotlib.pyplot as plt\n",
    "import networkx as nx\n",
    "\n",
    "Gabs = nx.Graph()\n",
    "\n",
    "l = len(tweets_abs)\n",
    "for i in range(l):\n",
    "    for j in range(i+1, l):\n",
    "        if cosine_similarity(df_abs)[i][j] != 0:\n",
    "            Gabs.add_edge(str(i), str(j), weight = cosine_similarity(df_abs)[i][j])\n",
    "            \n",
    "e = [(u, v) for (u, v, d) in Gabs.edges(data=True)]\n",
    "#esmall = [(u, v) for (u, v, d) in G.edges(data=True) if d['weight'] <= 0.5]\n",
    "\n",
    "pos = nx.spring_layout(Gabs)  # positions for all nodes\n",
    "\n",
    "# nodes\n",
    "nx.draw_networkx_nodes(Gabs, pos, node_size=200)\n",
    "\n",
    "# edges\n",
    "nx.draw_networkx_edges(Gabs, pos, edgelist=e,\n",
    "                       width=.3)\n",
    "# labels\n",
    "nx.draw_networkx_labels(Gabs, pos, font_size=10, font_family='sans-serif')\n",
    "\n",
    "plt.axis('off')\n",
    "plt.show()"
   ]
  },
  {
   "cell_type": "code",
   "execution_count": 26,
   "metadata": {},
   "outputs": [
    {
     "data": {
      "text/plain": [
       "500"
      ]
     },
     "execution_count": 26,
     "metadata": {},
     "output_type": "execute_result"
    }
   ],
   "source": [
    "vt_abs = Gabs.number_of_nodes()\n",
    "Gabs.number_of_nodes()"
   ]
  },
  {
   "cell_type": "code",
   "execution_count": 9,
   "metadata": {},
   "outputs": [],
   "source": [
    "#working on expression score(tweets_exp)....................................................................."
   ]
  },
  {
   "cell_type": "code",
   "execution_count": 10,
   "metadata": {},
   "outputs": [],
   "source": [
    "#ignore\n",
    "# from vaderSentiment.vaderSentiment import SentimentIntensityAnalyzer \n",
    "   \n",
    "# # Create a SentimentIntensityAnalyzer object. \n",
    "# sid_obj = SentimentIntensityAnalyzer()\n",
    "# score = []\n",
    "# for text in org:\n",
    "#     sentiment_dict = sid_obj.polarity_scores(text)\n",
    "#     score.append(sentiment_dict['compound'])"
   ]
  },
  {
   "cell_type": "code",
   "execution_count": 12,
   "metadata": {
    "scrolled": true
   },
   "outputs": [
    {
     "name": "stdout",
     "output_type": "stream",
     "text": [
      "[[0. 0. 0. ... 0. 0. 0.]\n",
      " [0. 0. 0. ... 0. 0. 0.]\n",
      " [0. 0. 0. ... 0. 0. 0.]\n",
      " ...\n",
      " [0. 0. 1. ... 0. 0. 0.]\n",
      " [0. 0. 1. ... 0. 0. 0.]\n",
      " [0. 0. 1. ... 0. 0. 0.]]\n",
      "[[0. 0. 0. ... 0. 0. 0.]\n",
      " [0. 0. 0. ... 0. 0. 0.]\n",
      " [0. 0. 0. ... 0. 0. 0.]\n",
      " ...\n",
      " [0. 0. 0. ... 1. 1. 1.]\n",
      " [0. 0. 0. ... 1. 1. 1.]\n",
      " [0. 0. 0. ... 1. 1. 1.]]\n"
     ]
    }
   ],
   "source": [
    "from sklearn.feature_extraction.text import CountVectorizer\n",
    "from sklearn.feature_extraction.text import TfidfVectorizer\n",
    "from sklearn.metrics.pairwise import cosine_similarity\n",
    "import pandas as pd\n",
    "\n",
    "tfidf_vectorizer = TfidfVectorizer(stop_words='english')\n",
    "tfidf_vectorizer = TfidfVectorizer()\n",
    "sparse_matrix = tfidf_vectorizer.fit_transform(tweets_exp)\n",
    "\n",
    "doc_term_matrix = sparse_matrix.todense()\n",
    "df_exp = pd.DataFrame(doc_term_matrix, \n",
    "                  columns=tfidf_vectorizer.get_feature_names())\n",
    "print(doc_term_matrix)\n",
    "print(cosine_similarity(df_exp))"
   ]
  },
  {
   "cell_type": "code",
   "execution_count": 23,
   "metadata": {},
   "outputs": [],
   "source": [
    "import matplotlib.pyplot as plt\n",
    "import networkx as nx\n",
    "\n",
    "Gexp = nx.Graph()\n",
    "\n",
    "l = len(tweets_exp)\n",
    "for i in range(l):\n",
    "    for j in range(i+1, l):\n",
    "        if cosine_similarity(df_exp)[i][j] != 0:\n",
    "            print(i, j)\n",
    "            Gexp.add_edge(str(i), str(j), weight = cosine_similarity(df_exp)[i][j])\n",
    "#         sc = abs(score[i] - score[j])\n",
    "        #if  sc != 0:\n",
    "#         Gexp.add_edge(str(i), str(j), weight = sc)\n",
    "\n",
    "e = [(u, v) for (u, v, d) in Gexp.edges(data=True)]\n",
    "\n",
    "pos = nx.spring_layout(Gexp)  # positions for all nodes\n",
    "\n",
    "# nodes\n",
    "nx.draw_networkx_nodes(Gexp, pos, node_size=200)\n",
    "\n",
    "# edges\n",
    "nx.draw_networkx_edges(Gexp, pos, edgelist=e,\n",
    "                       width=.1)\n",
    "# labels\n",
    "nx.draw_networkx_labels(Gexp, pos, font_size=10, font_family='sans-serif')\n",
    "\n",
    "plt.axis('off')\n",
    "plt.show()"
   ]
  },
  {
   "cell_type": "code",
   "execution_count": 25,
   "metadata": {},
   "outputs": [
    {
     "data": {
      "text/plain": [
       "443"
      ]
     },
     "execution_count": 25,
     "metadata": {},
     "output_type": "execute_result"
    }
   ],
   "source": [
    "vt_exp = Gexp.number_of_nodes()\n",
    "Gexp.number_of_nodes()"
   ]
  },
  {
   "cell_type": "code",
   "execution_count": 14,
   "metadata": {
    "scrolled": false
   },
   "outputs": [
    {
     "data": {
      "image/png": "[encoded data removed]",
      "text/plain": [
       "<Figure size 576x576 with 1 Axes>"
      ]
     },
     "metadata": {},
     "output_type": "display_data"
    }
   ],
   "source": [
    "#plot of abstraction graph\n",
    "import community\n",
    "partitiona = community.best_partition(Gabs)\n",
    "posa = nx.spring_layout(Gabs)\n",
    "plt.figure(figsize=(8, 8))\n",
    "plt.axis('off')\n",
    "nx.draw_networkx_nodes(Gabs, posa, node_size=600, cmap=plt.cm.RdYlBu, node_color=list(partitiona.values()))\n",
    "nx.draw_networkx_edges(Gabs, posa, alpha=0.3)\n",
    "plt.show(Gabs)"
   ]
  },
  {
   "cell_type": "code",
   "execution_count": 17,
   "metadata": {},
   "outputs": [
    {
     "data": {
      "image/png": "[encoded data removed]",
      "text/plain": [
       "<Figure size 576x576 with 1 Axes>"
      ]
     },
     "metadata": {},
     "output_type": "display_data"
    }
   ],
   "source": [
    "#plot of expression graph\n",
    "import community\n",
    "partitionb = community.best_partition(Gexp)\n",
    "posb = nx.spring_layout(Gexp)\n",
    "plt.figure(figsize=(8, 8))\n",
    "plt.axis('off')\n",
    "nx.draw_networkx_nodes(Gexp, posb, node_size=600, cmap=plt.cm.RdYlBu, node_color=list(partitionb.values()))\n",
    "nx.draw_networkx_edges(Gexp, posb, alpha=0.3)\n",
    "plt.show(Gexp)"
   ]
  },
  {
   "cell_type": "code",
   "execution_count": 18,
   "metadata": {},
   "outputs": [
    {
     "name": "stdout",
     "output_type": "stream",
     "text": [
      "clusters in abstraction graph:  Counter({2: 98, 4: 98, 1: 95, 5: 86, 3: 66, 0: 57})\n",
      "clusters in expression graph:  Counter({2: 164, 1: 98, 0: 95, 3: 86})\n"
     ]
    }
   ],
   "source": [
    "from collections import Counter\n",
    "count_abs = Counter(partitiona.values())\n",
    "count_exp = Counter(partitionb.values())\n",
    "print(\"clusters in abstraction graph: \", count_abs)\n",
    "print(\"clusters in expression graph: \", count_exp)"
   ]
  },
  {
   "cell_type": "code",
   "execution_count": 19,
   "metadata": {},
   "outputs": [],
   "source": [
    "m_abs = max(count_abs, key=count_abs.get)\n",
    "m_exp = max(count_exp, key=count_exp.get)\n",
    "v_abs = count_abs[m_abs]\n",
    "v_exp = count_exp[m_exp]"
   ]
  },
  {
   "cell_type": "code",
   "execution_count": 27,
   "metadata": {},
   "outputs": [
    {
     "data": {
      "text/plain": [
       "0.196"
      ]
     },
     "execution_count": 27,
     "metadata": {},
     "output_type": "execute_result"
    }
   ],
   "source": [
    "abs_score = float(v_abs/vt_abs)\n",
    "abs_score"
   ]
  },
  {
   "cell_type": "code",
   "execution_count": 28,
   "metadata": {},
   "outputs": [
    {
     "data": {
      "text/plain": [
       "0.37020316027088035"
      ]
     },
     "execution_count": 28,
     "metadata": {},
     "output_type": "execute_result"
    }
   ],
   "source": [
    "exp_score = float(v_exp/vt_exp)\n",
    "exp_score"
   ]
  },
  {
   "cell_type": "code",
   "execution_count": 22,
   "metadata": {},
   "outputs": [
    {
     "data": {
      "image/png": "[encoded data removed]",
      "text/plain": [
       "<Figure size 432x288 with 1 Axes>"
      ]
     },
     "metadata": {
      "needs_background": "light"
     },
     "output_type": "display_data"
    }
   ],
   "source": [
    "import matplotlib.pyplot as plt\n",
    "\n",
    "plt.ylim(0, 1)\n",
    "plt.xlim(0, 1)\n",
    "plt.xlabel('abstraction score') \n",
    "# naming the y axis \n",
    "plt.ylabel('expression score') \n",
    "plt.plot(abs_score, exp_score, color='green', linestyle='dashed', linewidth = 3, \n",
    "         marker='o', markerfacecolor='blue', markersize=12)\n",
    "plt.show()"
   ]
  },
  {
   "cell_type": "code",
   "execution_count": null,
   "metadata": {},
   "outputs": [],
   "source": []
  },
  {
   "cell_type": "code",
   "execution_count": null,
   "metadata": {},
   "outputs": [],
   "source": []
  }
 ],
 "metadata": {
  "kernelspec": {
   "display_name": "Python 3",
   "language": "python",
   "name": "python3"
  },
  "language_info": {
   "codemirror_mode": {
    "name": "ipython",
    "version": 3
   },
   "file_extension": ".py",
   "mimetype": "text/x-python",
   "name": "python",
   "nbconvert_exporter": "python",
   "pygments_lexer": "ipython3",
   "version": "3.7.4"
  }
 },
 "nbformat": 4,
 "nbformat_minor": 2
}
