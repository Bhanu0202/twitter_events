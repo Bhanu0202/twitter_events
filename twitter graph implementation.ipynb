{
 "cells": [
  {
   "cell_type": "code",
   "execution_count": 1,
   "metadata": {},
   "outputs": [
    {
     "name": "stdout",
     "output_type": "stream",
     "text": [
      "Collecting TwitterAPI\n",
      "  Downloading https://files.pythonhosted.org/packages/63/20/93763549bea0f48d84d763ad02a061e6ad9154c31ef55e2353688346370e/TwitterAPI-2.5.10.tar.gz\n",
      "Requirement already satisfied: requests in ./opt/anaconda3/lib/python3.7/site-packages (from TwitterAPI) (2.22.0)\n",
      "Collecting requests_oauthlib (from TwitterAPI)\n",
      "  Downloading https://files.pythonhosted.org/packages/a3/12/b92740d845ab62ea4edf04d2f4164d82532b5a0b03836d4d4e71c6f3d379/requests_oauthlib-1.3.0-py2.py3-none-any.whl\n",
      "Requirement already satisfied: chardet<3.1.0,>=3.0.2 in ./opt/anaconda3/lib/python3.7/site-packages (from requests->TwitterAPI) (3.0.4)\n",
      "Requirement already satisfied: certifi>=2017.4.17 in ./opt/anaconda3/lib/python3.7/site-packages (from requests->TwitterAPI) (2019.9.11)\n",
      "Requirement already satisfied: urllib3!=1.25.0,!=1.25.1,<1.26,>=1.21.1 in ./opt/anaconda3/lib/python3.7/site-packages (from requests->TwitterAPI) (1.24.2)\n",
      "Requirement already satisfied: idna<2.9,>=2.5 in ./opt/anaconda3/lib/python3.7/site-packages (from requests->TwitterAPI) (2.8)\n",
      "Collecting oauthlib>=3.0.0 (from requests_oauthlib->TwitterAPI)\n",
      "\u001b[?25l  Downloading https://files.pythonhosted.org/packages/05/57/ce2e7a8fa7c0afb54a0581b14a65b56e62b5759dbc98e80627142b8a3704/oauthlib-3.1.0-py2.py3-none-any.whl (147kB)\n",
      "\u001b[K     |████████████████████████████████| 153kB 1.5MB/s eta 0:00:01\n",
      "\u001b[?25hBuilding wheels for collected packages: TwitterAPI\n",
      "  Building wheel for TwitterAPI (setup.py) ... \u001b[?25ldone\n",
      "\u001b[?25h  Created wheel for TwitterAPI: filename=TwitterAPI-2.5.10-cp37-none-any.whl size=11304 sha256=d92bd0cf5e3aa2b920d30784dfd0ad2bb2807d4ba19074c937415743af10dd44\n",
      "  Stored in directory: /Users/sumedharana/Library/Caches/pip/wheels/a7/4e/0f/7d8efea448e3203cb6b10a5c5dba8a28ab7db53d7f237439c3\n",
      "Successfully built TwitterAPI\n",
      "Installing collected packages: oauthlib, requests-oauthlib, TwitterAPI\n",
      "Successfully installed TwitterAPI-2.5.10 oauthlib-3.1.0 requests-oauthlib-1.3.0\n",
      "Note: you may need to restart the kernel to use updated packages.\n"
     ]
    }
   ],
   "source": [
    "pip install TwitterAPI\n"
   ]
  },
  {
   "cell_type": "code",
   "execution_count": 1,
   "metadata": {},
   "outputs": [
    {
     "name": "stdout",
     "output_type": "stream",
     "text": [
      "Requirement already satisfied: TwitterAPI in ./opt/anaconda3/lib/python3.7/site-packages (2.5.10)\n",
      "Requirement already satisfied: requests-oauthlib in ./opt/anaconda3/lib/python3.7/site-packages (from TwitterAPI) (1.3.0)\n",
      "Requirement already satisfied: requests in ./opt/anaconda3/lib/python3.7/site-packages (from TwitterAPI) (2.22.0)\n",
      "Requirement already satisfied: oauthlib>=3.0.0 in ./opt/anaconda3/lib/python3.7/site-packages (from requests-oauthlib->TwitterAPI) (3.1.0)\n",
      "Requirement already satisfied: urllib3!=1.25.0,!=1.25.1,<1.26,>=1.21.1 in ./opt/anaconda3/lib/python3.7/site-packages (from requests->TwitterAPI) (1.24.2)\n",
      "Requirement already satisfied: idna<2.9,>=2.5 in ./opt/anaconda3/lib/python3.7/site-packages (from requests->TwitterAPI) (2.8)\n",
      "Requirement already satisfied: certifi>=2017.4.17 in ./opt/anaconda3/lib/python3.7/site-packages (from requests->TwitterAPI) (2019.9.11)\n",
      "Requirement already satisfied: chardet<3.1.0,>=3.0.2 in ./opt/anaconda3/lib/python3.7/site-packages (from requests->TwitterAPI) (3.0.4)\n",
      "Note: you may need to restart the kernel to use updated packages.\n"
     ]
    }
   ],
   "source": [
    "pip install TwitterAPI"
   ]
  },
  {
   "cell_type": "code",
   "execution_count": 2,
   "metadata": {},
   "outputs": [
    {
     "name": "stdout",
     "output_type": "stream",
     "text": [
      "Established connection\n"
     ]
    }
   ],
   "source": [
    "import configparser \n",
    "from TwitterAPI import TwitterAPI\n",
    "def get_twitter(config_file):\n",
    "    config=configparser.ConfigParser()\n",
    "    config.read(config_file)\n",
    "    twitter=TwitterAPI(config.get('twitter', 'consumer_key'),\n",
    "                   config.get('twitter', 'consumer_secret'),\n",
    "                   config.get('twitter', 'access_token'),\n",
    "                   config.get('twitter', 'access_token_secret'))\n",
    "    return twitter\n",
    "twitter=get_twitter('twitter.cfg')\n",
    "print('Established connection')"
   ]
  },
  {
   "cell_type": "code",
   "execution_count": 3,
   "metadata": {},
   "outputs": [
    {
     "data": {
      "text/plain": [
       "['CONNECTION_TIMEOUT',\n",
       " 'REST_TIMEOUT',\n",
       " 'STREAMING_TIMEOUT',\n",
       " 'USER_AGENT',\n",
       " '__class__',\n",
       " '__delattr__',\n",
       " '__dict__',\n",
       " '__dir__',\n",
       " '__doc__',\n",
       " '__eq__',\n",
       " '__format__',\n",
       " '__ge__',\n",
       " '__getattribute__',\n",
       " '__gt__',\n",
       " '__hash__',\n",
       " '__init__',\n",
       " '__init_subclass__',\n",
       " '__le__',\n",
       " '__lt__',\n",
       " '__module__',\n",
       " '__ne__',\n",
       " '__new__',\n",
       " '__reduce__',\n",
       " '__reduce_ex__',\n",
       " '__repr__',\n",
       " '__setattr__',\n",
       " '__sizeof__',\n",
       " '__str__',\n",
       " '__subclasshook__',\n",
       " '__weakref__',\n",
       " '_get_endpoint',\n",
       " '_prepare_url',\n",
       " 'auth',\n",
       " 'proxies',\n",
       " 'request']"
      ]
     },
     "execution_count": 3,
     "metadata": {},
     "output_type": "execute_result"
    }
   ],
   "source": [
    "dir(twitter)"
   ]
  },
  {
   "cell_type": "code",
   "execution_count": 4,
   "metadata": {},
   "outputs": [
    {
     "name": "stdout",
     "output_type": "stream",
     "text": [
      "Help on method request in module TwitterAPI.TwitterAPI:\n",
      "\n",
      "request(resource, params=None, files=None, method_override=None) method of TwitterAPI.TwitterAPI.TwitterAPI instance\n",
      "    Request a Twitter REST API or Streaming API resource.\n",
      "    \n",
      "    :param resource: A valid Twitter endpoint (ex. \"search/tweets\")\n",
      "    :param params: Dictionary with endpoint parameters or None (default)\n",
      "    :param files: Dictionary with multipart-encoded file or None (default)\n",
      "    :param method_override: Request method to override or None (default)\n",
      "    \n",
      "    :returns: TwitterResponse\n",
      "    :raises: TwitterConnectionError\n",
      "\n"
     ]
    }
   ],
   "source": [
    "help(twitter.request)"
   ]
  },
  {
   "cell_type": "code",
   "execution_count": 5,
   "metadata": {},
   "outputs": [],
   "source": [
    "request=twitter.request('search/tweets',{'q':'modi'})"
   ]
  },
  {
   "cell_type": "code",
   "execution_count": 6,
   "metadata": {},
   "outputs": [
    {
     "name": "stdout",
     "output_type": "stream",
     "text": [
      "<class 'TwitterAPI.TwitterAPI.TwitterResponse'>\n"
     ]
    }
   ],
   "source": [
    "print(type(request))"
   ]
  },
  {
   "cell_type": "code",
   "execution_count": 7,
   "metadata": {},
   "outputs": [
    {
     "data": {
      "text/plain": [
       "['__class__',\n",
       " '__delattr__',\n",
       " '__dict__',\n",
       " '__dir__',\n",
       " '__doc__',\n",
       " '__eq__',\n",
       " '__format__',\n",
       " '__ge__',\n",
       " '__getattribute__',\n",
       " '__gt__',\n",
       " '__hash__',\n",
       " '__init__',\n",
       " '__init_subclass__',\n",
       " '__iter__',\n",
       " '__le__',\n",
       " '__lt__',\n",
       " '__module__',\n",
       " '__ne__',\n",
       " '__new__',\n",
       " '__reduce__',\n",
       " '__reduce_ex__',\n",
       " '__repr__',\n",
       " '__setattr__',\n",
       " '__sizeof__',\n",
       " '__str__',\n",
       " '__subclasshook__',\n",
       " '__weakref__',\n",
       " 'close',\n",
       " 'get_iterator',\n",
       " 'get_quota',\n",
       " 'headers',\n",
       " 'json',\n",
       " 'response',\n",
       " 'status_code',\n",
       " 'stream',\n",
       " 'text']"
      ]
     },
     "execution_count": 7,
     "metadata": {},
     "output_type": "execute_result"
    }
   ],
   "source": [
    "dir(request)"
   ]
  },
  {
   "cell_type": "code",
   "execution_count": 8,
   "metadata": {},
   "outputs": [],
   "source": [
    "tweets=[r for r in request]"
   ]
  },
  {
   "cell_type": "code",
   "execution_count": 9,
   "metadata": {},
   "outputs": [
    {
     "name": "stdout",
     "output_type": "stream",
     "text": [
      "found 15 tweets\n"
     ]
    }
   ],
   "source": [
    "print('found %d tweets' % len(tweets))"
   ]
  },
  {
   "cell_type": "code",
   "execution_count": 10,
   "metadata": {},
   "outputs": [],
   "source": [
    "a_tweets= tweets[0]"
   ]
  },
  {
   "cell_type": "code",
   "execution_count": 11,
   "metadata": {},
   "outputs": [
    {
     "data": {
      "text/plain": [
       "['contributors',\n",
       " 'coordinates',\n",
       " 'created_at',\n",
       " 'entities',\n",
       " 'favorite_count',\n",
       " 'favorited',\n",
       " 'geo',\n",
       " 'id',\n",
       " 'id_str',\n",
       " 'in_reply_to_screen_name',\n",
       " 'in_reply_to_status_id',\n",
       " 'in_reply_to_status_id_str',\n",
       " 'in_reply_to_user_id',\n",
       " 'in_reply_to_user_id_str',\n",
       " 'is_quote_status',\n",
       " 'lang',\n",
       " 'metadata',\n",
       " 'place',\n",
       " 'retweet_count',\n",
       " 'retweeted',\n",
       " 'retweeted_status',\n",
       " 'source',\n",
       " 'text',\n",
       " 'truncated',\n",
       " 'user']"
      ]
     },
     "execution_count": 11,
     "metadata": {},
     "output_type": "execute_result"
    }
   ],
   "source": [
    "\n",
    "sorted(a_tweets.keys())"
   ]
  },
  {
   "cell_type": "code",
   "execution_count": 12,
   "metadata": {},
   "outputs": [
    {
     "name": "stdout",
     "output_type": "stream",
     "text": [
      "RT @BJP4India: Giving India's GenNext the wings to fly, soar up and high.\n",
      "\n",
      "From farmers to women to children, PM Modi is empowering India's…\n"
     ]
    }
   ],
   "source": [
    "print(a_tweets['text'])"
   ]
  },
  {
   "cell_type": "code",
   "execution_count": 13,
   "metadata": {},
   "outputs": [
    {
     "data": {
      "text/plain": [
       "{'id': 2615878590,\n",
       " 'id_str': '2615878590',\n",
       " 'name': 'Radhey Shyam',\n",
       " 'screen_name': 'rshyam8080',\n",
       " 'location': '',\n",
       " 'description': '',\n",
       " 'url': None,\n",
       " 'entities': {'description': {'urls': []}},\n",
       " 'protected': False,\n",
       " 'followers_count': 4,\n",
       " 'friends_count': 66,\n",
       " 'listed_count': 0,\n",
       " 'created_at': 'Thu Jul 10 17:55:15 +0000 2014',\n",
       " 'favourites_count': 1142,\n",
       " 'utc_offset': None,\n",
       " 'time_zone': None,\n",
       " 'geo_enabled': False,\n",
       " 'verified': False,\n",
       " 'statuses_count': 1063,\n",
       " 'lang': None,\n",
       " 'contributors_enabled': False,\n",
       " 'is_translator': False,\n",
       " 'is_translation_enabled': False,\n",
       " 'profile_background_color': 'C0DEED',\n",
       " 'profile_background_image_url': 'http://abs.twimg.com/images/themes/theme1/bg.png',\n",
       " 'profile_background_image_url_https': 'https://abs.twimg.com/images/themes/theme1/bg.png',\n",
       " 'profile_background_tile': False,\n",
       " 'profile_image_url': 'http://abs.twimg.com/sticky/default_profile_images/default_profile_normal.png',\n",
       " 'profile_image_url_https': 'https://abs.twimg.com/sticky/default_profile_images/default_profile_normal.png',\n",
       " 'profile_link_color': '1DA1F2',\n",
       " 'profile_sidebar_border_color': 'C0DEED',\n",
       " 'profile_sidebar_fill_color': 'DDEEF6',\n",
       " 'profile_text_color': '333333',\n",
       " 'profile_use_background_image': True,\n",
       " 'has_extended_profile': False,\n",
       " 'default_profile': True,\n",
       " 'default_profile_image': True,\n",
       " 'following': False,\n",
       " 'follow_request_sent': False,\n",
       " 'notifications': False,\n",
       " 'translator_type': 'none'}"
      ]
     },
     "execution_count": 13,
     "metadata": {},
     "output_type": "execute_result"
    }
   ],
   "source": [
    "a_tweets['user']"
   ]
  },
  {
   "cell_type": "code",
   "execution_count": 14,
   "metadata": {},
   "outputs": [
    {
     "data": {
      "text/plain": [
       "'Thu Jan 23 14:52:20 +0000 2020'"
      ]
     },
     "execution_count": 14,
     "metadata": {},
     "output_type": "execute_result"
    }
   ],
   "source": [
    "a_tweets['created_at']"
   ]
  },
  {
   "cell_type": "code",
   "execution_count": 15,
   "metadata": {},
   "outputs": [
    {
     "name": "stdout",
     "output_type": "stream",
     "text": [
      "screen_name=rshyam8080, name=Radhey Shyam, location=\n"
     ]
    }
   ],
   "source": [
    "user=a_tweets['user']\n",
    "print('screen_name=%s, name=%s, location=%s' %\n",
    "      (user['screen_name'], user['name'], user['location']))"
   ]
  },
  {
   "cell_type": "code",
   "execution_count": 18,
   "metadata": {},
   "outputs": [
    {
     "name": "stdout",
     "output_type": "stream",
     "text": [
      "found 4 followers for rshyam8080\n"
     ]
    }
   ],
   "source": [
    "screen_name = user['screen_name']\n",
    "request = twitter.request('followers/list', \n",
    "                          {'screen_name': screen_name, 'count':200})\n",
    "followers = [r for r in request]\n",
    "        \n",
    "print('found %d followers for %s' % (len(followers), screen_name))\n"
   ]
  },
  {
   "cell_type": "code",
   "execution_count": 19,
   "metadata": {},
   "outputs": [
    {
     "data": {
      "image/png": "[encoded data removed]",
      "text/plain": [
       "<Figure size 432x288 with 1 Axes>"
      ]
     },
     "metadata": {},
     "output_type": "display_data"
    }
   ],
   "source": [
    "import networkx as nx\n",
    "graph=nx.DiGraph()\n",
    "graph.add_node(screen_name)\n",
    "nx.draw(graph,with_labels=True)"
   ]
  },
  {
   "cell_type": "code",
   "execution_count": 20,
   "metadata": {},
   "outputs": [
    {
     "data": {
      "image/png": "[encoded data removed]",
      "text/plain": [
       "<Figure size 432x288 with 1 Axes>"
      ]
     },
     "metadata": {},
     "output_type": "display_data"
    }
   ],
   "source": [
    "graph.add_edge(followers[0]['screen_name'],screen_name)\n",
    "nx.draw(graph,with_labels=True)"
   ]
  },
  {
   "cell_type": "code",
   "execution_count": 21,
   "metadata": {},
   "outputs": [
    {
     "data": {
      "image/png": "[encoded data removed]",
      "text/plain": [
       "<Figure size 432x288 with 1 Axes>"
      ]
     },
     "metadata": {},
     "output_type": "display_data"
    }
   ],
   "source": [
    "graph.add_edge(screen_name,followers[0]['screen_name'])\n",
    "nx.draw(graph,with_labels=True)"
   ]
  },
  {
   "cell_type": "code",
   "execution_count": 22,
   "metadata": {},
   "outputs": [
    {
     "data": {
      "image/png": "[encoded data removed]",
      "text/plain": [
       "<Figure size 432x288 with 1 Axes>"
      ]
     },
     "metadata": {},
     "output_type": "display_data"
    }
   ],
   "source": [
    "graph.add_edge(screen_name,followers[1]['screen_name'])\n",
    "nx.draw(graph,with_labels=True)\n"
   ]
  },
  {
   "cell_type": "code",
   "execution_count": 23,
   "metadata": {},
   "outputs": [
    {
     "name": "stdout",
     "output_type": "stream",
     "text": [
      "got 199 tweets for user rshyam8080\n"
     ]
    }
   ],
   "source": [
    "timeline = [tweet for tweet in twitter.request('statuses/user_timeline',\n",
    "                                              {'screen_name': screen_name,\n",
    "                                               'count': 500})]\n",
    "print('got %d tweets for user %s' % (len(timeline), screen_name))"
   ]
  },
  {
   "cell_type": "code",
   "execution_count": 56,
   "metadata": {},
   "outputs": [
    {
     "name": "stdout",
     "output_type": "stream",
     "text": [
      "RT @BJP4India: हम लंबे समय तक मां भारती की सेवा करने के लिए आए लोग हैं। हमें सदियों तक ये काम करना है। और जिन आशा-आकांक्षाओं के कारण इस दल…\n",
      "RT @BJP4Serampore: বিশ্বের সর্ববৃহৎ রাজনৈতিক দল ভারতীয় জনতা পার্টির নবনির্বাচিত সর্বভারতীয় সভাপতি শ্রী জে পি নাড্ডা জী কে আন্তরিক শুভেচ্…\n",
      "RT @BJP4India: मेरा सौभाग्य रहा है कि यहां बैठे हुए सभी वरिष्ठ जनों के हाथ के नीचे मुझे पार्टी का काम करने का अवसर मिला है।\n",
      "\n",
      "कभी राज्य स्तर…\n",
      "RT @BJPLive: PM Shri @narendramodi is speaking now. Watch LIVE at https://t.co/XeQyzATMPr https://t.co/64M16h241k\n",
      "RT @BJP4India: Nadda Ji has become our National President. We are ready to take the BJP to new heights under his leadership: Shri @AmitShah\n",
      "RT @BJP4India: There are a few states where we are yet to attain electoral success and reach every booth. I call upon every worker to be re…\n",
      "RT @BJP4India: Under PM Modi's aegis, we have moved ahead towards completing every promise we made to the nation.\n",
      "\n",
      "From Article 370 to Trip…\n",
      "RT @narendramodi: Speaking at the BJP headquarters in Delhi. Watch. https://t.co/E61B7OHSP8\n",
      "RT @BJP4India: भारतीय जनता पार्टी समग्र देश कि सभी पार्टियों से इसलिए अलग पार्टी दिखाई पड़ती है क्योंकि ये पार्टी न तो जात-पात के आधार पर च…\n",
      "RT @BJP4India: The BJP stands apart in India because it does not function on casteism or nepotism. \n",
      "\n",
      "If you look at other parties, every pa…\n",
      "RT @narendramodi: I do not think words can do justice to the rich contribution of @AmitShah Ji as @BJP4India President. During his Presiden…\n",
      "RT @narendramodi: Congratulations to Shri @JPNadda Ji on being elected @BJP4India President. Wishing him the very best for his tenure. Nadd…\n",
      "RT @BJP4India: Felicitation program of newly-elected BJP National President Shri @JPNadda at BJP headquarters in New Delhi. https://t.co/S3…\n",
      "RT @BJP4Bengal: বিজেপির সর্বভারতীয় সভাপতি নির্বাচিত হবার জন্য মাননীয় শ্রী @JPNadda জীকে ভারতীয় জনতা পার্টি, পশ্চিমবঙ্গের পক্ষ থেকে শুভে…\n",
      "RT @BJP4India: A brief look at the distinguished political and public life of Shri @JPNadda, newly-elected National President of Bharatiya…\n",
      "RT @BJP4Bengal: বিজেপির সর্বভারতীয় সভাপতি নির্বাচিত হবার জন্য মাননীয় শ্রী জেপি নাড্ডা জীকে ভারতীয় জনতা পার্টি, পশ্চিমবঙ্গের পক্ষ থেকে শু…\n",
      "RT @BJP4India: Shri @JPNadda takes charge as National President of the Bharatiya Janata Party at party headquarters in New Delhi. https://t…\n",
      "RT @BJP4India: भाजपा के संगठनात्मक चुनाव के अंतर्गत पार्टी के राष्ट्रीय चुनाव अधिकारी श्री राधा मोहन सिंह ने श्री जे पी नड्डा को वर्ष 2019-…\n",
      "RT @BJP4India: देश में सबसे मजबूत पार्टी, राज्यों में शासन करने वाली पार्टी, सबसे बड़ी सांसदों और विधायकों सदस्य संख्या हमारी है।\n",
      "\n",
      "हम रुकने…\n",
      "RT @JPNadda: क्या हम तय कर सकते हैं कि 2022 में जब आजदी के 75 वर्ष होंगे तो मैं और मेरा परिवार जो भी खरीदेंगे वो Make In India ही खरीदेंगे।…\n",
      "RT @BJP4India: साढ़े पांच साल तक इस पार्टी के अध्यक्ष के रूप में मुझे भी पार्टी की सेवा करने का अवसर मिला है। इन पांच वर्षों में पार्टी वि…\n",
      "RT @BJP4Bengal: This new year and decade are equally important for you and the entire country.\n",
      "\n",
      "Whatever happens in this new decade will be…\n",
      "RT @narendramodi: Amazing #ParikshaPeCharcha2020 programme. Watch. https://t.co/t3S6ckqrX1\n",
      "RT @amitmalviya: Thousands of auto rickshaw drivers, Delhi’s life-line, today pledged their support to the BJP, drove all the way from the…\n",
      "RT @BoseShymal: @BJP4Serampore \n",
      "@JPNadda https://t.co/tTbOSs7wV3\n",
      "RT @BJYM: नड्डा जी का नेतृत्व हमें नई प्रेरणा और ऊर्जा देगा और हम सब कार्यकर्ताओं का काम है कि नड्डा जी यशस्वी हो।\n",
      "\n",
      "@JPNadda जी जो भी चाहे,…\n",
      "RT @BJP4Serampore: বিজেপির সর্বভারতীয় সভাপতি নির্বাচিত হওয়ার জন্য মাননীয় জে পি  নাড্ডা জী কে আন্তরিক শুভেচ্ছা ও গৈরিক অভিনন্দন। @JPNadda…\n",
      "RT @BJP4Serampore: \"পদ্ম তোমায় ফুটতে হবে\n",
      "এ বাজি জেতার বাজি\"@BJP4Bengal @BjpBiplab @BJP4Arambagh @BJP4India https://t.co/D1fz53bLIx\n",
      "RT @narendramodi: I thank my young friends, their parents and outstanding teachers for joining today’s ‘Pariksha Pe Charcha.’\n",
      "\n",
      "Being among…\n",
      "RT @amitmalviya: The idea of a ‘Muslim veto’ in a democracy can threaten the plural secular nature of our polity... Congress’s admission th…\n",
      "RT @JPNadda: हमने डर के कारण आगे पैर नहीं रखे, इससे बुरी कोई अवस्था नहीं हो सकती।\n",
      "\n",
      "हमारी मनोस्थिति ऐसी होनी चाहिए कि हम किसी भी हालत में डग…\n",
      "RT @PiyushGoyal: Now Experience Fun Learning in Train Coaches: In an out of the box initiative, Railways has converted 2 old coaches into b…\n",
      "RT @MukulR_Official: ভারতীয় জনতা পার্টির সর্বভারতীয় সভাপতি নির্বাচিত হওয়ার জন্য মাননীয় শ্রী জেপি নাড্ডা জীকে আন্তরিক শুভেচ্ছা এবং অভিন…\n",
      "RT @AmitShah: यह हम सबके लिए आनंद, गौरव और हर्ष का विषय है कि भाजपा ने अपनी महान परंपरा का निर्वहन करते हुए एक सामान्य कार्यकर्ता के रूप…\n",
      "RT @BJP4India: भारतीय जनता पार्टी समग्र देश की सभी पार्टियों से इसलिए अलग पार्टी दिखाई पड़ती है क्योंकि ये पार्टी न तो जात-पात के आधार पर च…\n",
      "RT @AmitShah: Had extensive discussions with the Chief Ministers and Deputy Chief Ministers of BJP ruled states at BJP CM Council chaired b…\n",
      "RT @JPNadda: Thank you for your wishes @sarbanandsonwal Ji.\n",
      "#SoniaConnection, Who is C C Thampi, what is the relationship with Robert Vadra Or Sonia Gandhi, Sonia's connection… https://t.co/wDrzxZ6C5h\n",
      "RT @sambitswaraj: “सारे मुसलमान एक हो जाओ”\n",
      "“ये दिल्ली के 12% मुसलमान अगर एक हो गए तो मोदी को हरा देंगे”\n",
      "..दोस्तों सोचो अगर भाजपा कह देती की…\n",
      "RT @BJP4India: भारतीय जनता पार्टी के राष्ट्रीय संगठनात्मक चुनाव कार्यक्रम के अनुसार राष्ट्रीय अध्यक्ष के चुनाव की प्रक्रिया 20.01.2020 को…\n",
      "RT @BJP4Bengal: Congratulations to Team @isro on the successful launch of telecommunication satellite #GSAT30 into a Geosynchronous Transfe…\n",
      "RT @shivprakashbjp: श्री @DilipGhoshBJP  जी को  बंगाल भारतीय जनता पार्टी के पुनः प्रदेश अध्यक्ष निर्वाचित होने पर हार्दिक शुभकामनाएं l http…\n",
      "RT @BJPLive: GeM पोर्टल से सार्वजनिक खरीद में आ रही क्रांति\n",
      "\n",
      "👉 कुल लेन-देन 44,014 करोड़ रुपये के पार\n",
      "\n",
      "👉 3.19 लाख से अधिक विक्रेता और सेवा…\n",
      "RT @Amitava_BJP: #IndiaSupportCAA Please Dial 8866288662 and Support #CAA\n",
      "RT @Ai4Youth: Speaking at the National Showcase &amp; Felicitation ceremony\n",
      "Ideate for India - Creative Solutions Using Technology Hon’ble Mini…\n",
      "RT @PMOIndia: Congratulations to our @isro team for the first satellite launch of 2020. GSAT-30, with its unique configuration will provide…\n",
      "RT @JPNadda: आगामी दिल्ली विधानसभा चुनाव के लिए आज भारतीय जनता पार्टी ने अपने 57 उम्मीदवारों के नाम घोषित किए हैं, मैं सभी उम्मीदवारों को ब…\n",
      "RT @AmitShahOffice: Schedule of public programmes of Union Home Minister Shri @AmitShah Ji in Karnataka tomorrow, 18th January 2020. https:…\n",
      "RT @PiyushGoyal: PM @NarendraModi ji is designing a New India. His work is focused on providing a better future for the people of India.…\n",
      "RT @HMOIndia: Union Home Minister Shri @AmitShah Ji will be the Chief Guest at Vivekadeepini Mahasamarpane tomorrow, 18th January 2020.\n",
      "\n",
      "Ti…\n",
      "RT @BJP4Serampore: কেন্দ্রীয় নেতা শ্রী  কবির শঙ্কর বোস   কেন্দ্রীয় নেতা শ্রী জয় ব্যানার্জী, এবং শ্রীরামপুর সাংগঠনিক জেলার সভাপতি  শ্রী…\n",
      "RT @BJP4Serampore: আগামীকাল ১৯/০১/২০২০ @BJP4Serampore  এর  রিষড়া সন্ধ্যা বাজার মোড় থেকে CAA সমর্থনে  একটি বিশাল \"অভিনন্দন যাত্রা\" র আয়োজ…\n",
      "RT @narendramodi: The news of @AzmiShabana Ji’s injury in an accident is distressing. I pray for her quick recovery.\n",
      "RT @BJP4Serampore: নাগরিকত্ব সংশোধনী আইন - ২০১৯ কে সমর্থন জানানোর জন্য 8866288662 এই নম্বরে মিসড কল করুন। #IndiaSupportsCAA https://t.co/QD…\n",
      "RT @DilipGhoshBJP: “..Clearly recognise these three political parties, namely Congress, CPIM and Trinamool. They are anti-Hindu, anti-Benga…\n",
      "RT @BJP4India: वाराणसी (उत्तर प्रदेश), जगतसिंहपुर (ओडिशा) और सिंगरौली (मध्य प्रदेश) में नागरिकता संशोधन अधिनियम के समर्थन में उमड़ा विशाल ज…\n",
      "RT @AmitShahOffice: भाजपा के देशव्यापी ‘जन जागरण अभियान’ के अंतर्गत केंद्रीय गृह मंत्री एवं भाजपा राष्ट्रीय अध्यक्ष श्री @AmitShah जी ने आज…\n",
      "RT @Amitava_BJP: Shocker from Indira Jaising - Asks Nirbhaya's mother to forgive convicts; Nirbaya's mother accuses her of earning liveliho…\n",
      "RT @AmitShah: Have a look at these pictures from Hubli, Karnataka.\n",
      "\n",
      "People gathered in large numbers to show their support for CAA.\n",
      "#IndiaS…\n",
      "RT @amitmalviya: ‘No state can deny implementation of CAA, it’s unconstitutional’, is not a sudden realisation but a tactical retreat follo…\n",
      "RT @AmitShahOffice: In pictures: Union Home Minister and BJP National President Shri @AmitShah Ji at Vedanta Bharati Vivekadeepini Mahasama…\n",
      "RT @shooterdadi: ओर एक मुलाक़ात हमारे सीएम @myogiadityanath जी के साथ लखनऊ में आपसे मिलकर काफी अच्छा लगा मुझे ,लगता है उम्र के एक दो साल और…\n",
      "RT @DilipGhoshBJP: Witness the dismal state of democracy in Paschim Banga...\n",
      "The police is pulling the collar of the district president and…\n",
      "RT @smritiirani: आज पवित्र नगरी काशी में आयोजित #IndiaSupportsCAA जनसभा को CM @myogiadityanath जी की उपस्थिति में संबोधित किया।  \n",
      "\n",
      "बनारस की…\n",
      "RT @DilipGhoshBJP: Special moments of the procession, from Panskura's Haridaspur to Raghunathbari, in support of CAA.\n",
      "#WeSupportCAA https:/…\n",
      "RT @DilipGhoshBJP: Few more from Panskura.\n",
      "#BengalWithCAA https://t.co/zF7offLThw\n",
      "RT @BJP4Serampore: #CAA के समर्थन में उतरे 'द ग्रेट खली', बोले- आतंकवादियों को हिंदुस्तान में घुसने नहीं देंगे\n",
      "#TheGreatkhali \n",
      "#WeSupportsC…\n",
      "RT @BJP4Serampore: CAA এর সমর্থনে বিশাল \"অভিনন্দন যাত্রা\" @BoseShymal @BhaskarBbjp @BJP4Bengal @BJP4Arambagh @manojpandeywb https://t.co/y0…\n",
      "RT @AmitShah: श्री @JPNadda जी को भारतीय जनता पार्टी का राष्ट्रीय अध्यक्ष निर्वाचित होने पर हृदयपूर्वक बधाई। मुझे पूर्ण विश्वास है कि प्रधा…\n",
      "RT @BJP4Serampore: CAA এর সমর্থনে  বক্তব্য রাখলেন \n",
      "শুভ্রাংশু রায়।\n",
      "@MukulR_Official https://t.co/1gQgsxLcL6\n",
      "RT @BJP4Serampore: CAA  এর সমর্থনে মাননীয় @BoseShymal র বক্তব্য https://t.co/Mj2cnTlrnU\n",
      "RT @BJP4India: आज भाजपा मुख्यालय, नई दिल्ली में श्री @JPNadda को निर्विरोध भारतीय जनता पार्टी का राष्ट्रीय अध्यक्ष चुना गया। https://t.co/J…\n",
      "RT @PiyushGoyal: Heartiest congratulations to Shri @JPNadda ji for being elected as BJP's National Party President.\n",
      "\n",
      "An inspiring leader an…\n",
      "RT @BJP4Bengal: নাগরিকত্ব সংশোধনী আইন (CAA) নিয়ে বিরোধীদের মিথ্যা প্রচারের বিরুদ্ধে ভারতীয় জনতা পার্টির কার্যকর্তারা সাধারণ মানুষের কাছে…\n",
      "#PresidentJPNADDA, wethe members of Serampore org. https://t.co/Mp3FMUWuoH to like to congratulate our newly electe… https://t.co/vSDXznnBnK\n",
      "In health check up camp at uttarpara-kotrung Mondal, Adv.Nazia Elahi khan checking her blood pressure.… https://t.co/2fTnwOtK1p\n",
      "Today a rally organized by BJP Serampore org. dist from Rishra Sandhya Bazaar to 3no jal tank, Hon'bl Dist. preside… https://t.co/Uci1wZ4y0p\n",
      "Today at the beginning of health check up, Eye screening &amp; blood donation camp organized by Uttarpara-kotrung Monda… https://t.co/xZDhroReTa\n",
      "#IndiaSupportCAA , today a street corner meeting near Dr's Quarter, Uttarpara, of Uttarpara-Makhla mondal of Seramp… https://t.co/V5hZkU5OEC\n",
      "Today again at booth no 202 of ward no 17 of Uttarpara-Makhla Mondal, of Uttarpara A/C under Serampore org. dist. t… https://t.co/KFyAk2JrQu\n",
      "Asking question is u'r right, but u can't destabilize the social bonding by u'r reporting which ensure religious di… https://t.co/OzCxgea1ds\n",
      "RT @RajuBistaBJP: In a state where 'syndicate raj' prevails, getting approvals for new projects take forever, bullying threatening and exto…\n",
      "RT @myogiadityanath: त्रिपुरा में ब्रू-रियांग शरणार्थियों के सशक्तिकरण, सहायता और पुनर्वास के स्थायी समाधान के लिए आदरणीय प्रधानमंत्री श्री…\n",
      "RT @M_Lekhi: Good move, example of Singapore is a better example as compared to Pakistan, May be one such centre is needed close to Shaheen…\n",
      "RT @BJP4Bengal: \"সব তীর্থ বারবার, গঙ্গাসাগর একবার\"\n",
      "\n",
      "মহা পুণ্যতীর্থ গঙ্গাসাগর মেলায় ভারতীয় জনতা পার্টি, পশ্চিমবঙ্গের তরফ থেকে স্বচ্ছতা অভি…\n",
      "RT @DebasreeBJP: Under the guidance of Hon’ble PM Narendra Modi ji, *The second premium Tejas Express is set to be flagged off from Ahmedab…\n",
      "Today at a training program on CAA at Saktikunja lodge, Mosat, org. by Zp-20, 21 &amp; 22 Mondal President of Serampore… https://t.co/QA5Ir5w9Qg\n",
      "Today we are at booth no 201&amp; 202 of 17 no ward of Uttarpara-Makhla mondal of Uttarpara a/C of serampore… https://t.co/gNE943bFja\n",
      "Today at a street corner meeting at ward no 14 of Serampore mondal-3 of Serampore org. dist. to highlight the CAA.… https://t.co/Ct9FGhryAl\n",
      "#IndiaSupportCAA 2/2 who are in govt. actually engaged either in loot or helped somebody to loot govt. exchequer, l… https://t.co/6WUwPZCtEc\n",
      "#IndiaSupportCAA , there is some certain vested political party who are actually unnerved after 2nd land slide vict… https://t.co/xMSotyvMyd\n",
      "RT @66babaihalder88: #WeSupportCAA\n",
      "RT @RakeshBoseBJP: একে তো তৃণমূলের ভ্রান্ত জমি নীতির জন্য রাজ্যে কোনো বড়ো শিল্প আসছে না!\n",
      "\n",
      "তারপর যা শিল্প আছে সেই শিল্প গুলি কে বাঁচাতে পশ্…\n",
      "RT @RajuBistaBJP: FYI I have focused on development of sports infrastructure in our region from Day - 1 of my tenure. I  have requested Hon…\n",
      "RT @amitmalviya: .@BuzzFeedBen’s tripe busted.\n",
      "RT @AmitShah: लोहड़ी दी लख-लख बधाइयां। https://t.co/pw0KkC3GAD\n",
      "RT @amitmalviya: Left-leaning individuals are habitual disruptors, as on their moral scale \"respect for authority\" is not important...\n",
      "\n",
      "Lef…\n",
      "RT @AmitShah: ઉત્તરાયણના પર્વની હાર્દિક શુભકામનાઓ.\n",
      "\n",
      "सभी को उत्तरायण पर्व की हार्दिक शुभकामनाएँ। https://t.co/ghXTV9ZczS\n",
      "RT @BJP4Serampore: আঘ্রানে আমোদিত\n",
      "পুলকিত  হলো  ঘ্রাণ... \n",
      "পৌষের ডাকে ডাকে\n",
      "ভরে গেলো\n",
      "উল্লসিত প্রাণ।।।\n",
      " শুভ পৌষ পার্বণের প্রীতি শুভেচ্ছা ও সকলে…\n",
      "RT @myogioffice: मुख्यमंत्री श्री @myogiadityanath जी ने हिंदी फीचर फिल्म 'तानाजी-द अनसंग वॉरियर' को प्रदेश में एस.जी.एस.टी. से मुक्त करने…\n",
      "RT @BJP4Serampore: ভারতীয় জনতা পার্টি, পশ্চিমবঙ্গ পরিবারের পক্ষ থেকে পুনঃনির্বাচিত মাননীয় রাজ্য সভাপতি শ্রী @DilipGhoshBJP'কে গৈরিক শুভে…\n",
      "RT @BJP4Bengal: মাননীয় শ্রী দিলীপ ঘোষ'কে পুনরায় রাজ্য সভাপতি হিসাবে পেয়ে ভারতীয় জনতা পার্টি, পশ্চিমবঙ্গের কর্মীরা আনন্দে মাতোয়ারা... h…\n",
      "RT @narendramodi: Committed to the development of the Northeast and it’s citizens!\n",
      "\n",
      "Today’s agreement will greatly help the Bru-Reang refug…\n",
      "My heartiest congratulations to Dilip da to re elect as our President, &amp; thanking all the district President &amp; S.Co… https://t.co/NbHyJyLww9\n",
      "Today at booth no 97 of ward no 20 of Uttarpara -Makhla Mondal under Uttarpara A/C with CAA leaflet &amp; Postcard to l… https://t.co/1mm4HqKpBd\n",
      "RT @narendramodi: Have a wonderful Lohri. May this special festival bring joy and good health in everyone’s lives.\n",
      "\n",
      "देशवासियों को लोहड़ी की…\n",
      "RT @BJP4Bengal: নাগরিকত্ব সংশোধনী আইন নিয়ে অপপ্রচার কারীদের মানুষ চিনে নিয়েছে...\n",
      " \n",
      "মানুষ বলছে - শরণার্থীদের কষ্ট বুঝেছে একমাত্র মোদী সরকা…\n",
      "RT @SuPriyoBabul: গতকাল রাতের অন্ধকারে টিএমসি #TMchhi গুন্ডাবাহিনী আসানসোলে বারাবনি বিধানসভার আছড়ার বিজেপির কার্যালয়ে আগুন ধরিয়ে দেয় |…\n",
      "RT @KailashOnline: इसे हादसा नहीं माना जा सकता! ये साफ-साफ #TMC के गुंडों की साजिश है। आसनसोल के सालनपुर में भाजपा का दफ्तर जलाकर वे हमें…\n",
      "RT @BJP4Bengal: দলদাস পুলিশের চক্রান্ত ব্যর্থ করে বালুরঘাটে CAA'র সমর্থনে 'অভিনন্দন যাত্রা'য় উপস্থিত সাংসদ শ্রী @DrSukantaMajum1 , রাজ্য…\n",
      "RT @BJP4India: गरीब महिलाओं के लिए वरदान बनी आयुष्मान भारत योजना\n",
      "\n",
      "👉 30 लाख महिलाओं ने सर्वाइकल कैंसर की जांच कराई\n",
      "\n",
      "👉 70 लाख महिलाओं ने स्तन…\n",
      "RT @me_locket: .@mamataofficial can’t suppress the voice of common people. A people’s movement is demanding justice for the Balurghat gang…\n",
      "RT @amitmalviya: आप का बदरपुर से विधायक एन डी शर्मा इस वक्त मनीष सिसोदिया के घर के बाहर भू माफिया को टिकट बेचे जाने के विरोध में धरना दे र…\n",
      "RT @Amitava_BJP: JNU violence ABVP students say JNU teachers threaten us - जेएनयू हिंसा: एबीवीपी ने कहा, जेएनयू हिंसा कि स्क्रिप्ट 28 अक्टू…\n",
      "RT @Amitava_BJP: jnu violence abvp general secretary nidhi tripathi said it was not movement against fee hike it was naxal attack on jnu -…\n",
      "RT @Amitava_BJP: Prime Minister ⁦@narendramodi⁩ Ji names Kolkata Port Trust after Shyama Prasad Mukherjee - Organiser https://t.co/TmAgaRfU…\n",
      "RT @BJP4Serampore: \"ব্যক্তির ব্যবহার ই ব্যক্তির পরিচয়\"\n",
      "@BoseShymal @PMOIndia @narendramodi @DilipGhoshBJP \n",
      "@Amitava_BJP @basusayan https:/…\n",
      "RT @BJP4Bengal: Press Conference by Smt. @me_locket at BJP WB Hq.\n",
      "\n",
      "watch - \n",
      "https://t.co/UEACMqbHzL https://t.co/0blwEfOM1Z\n",
      "RT @AmitShahOffice: केंद्रीय गृह मंत्री एवं भाजपा राष्ट्रीय अध्यक्ष श्री @AmitShah जी के कल (14 जनवरी 2020) गुजरात में सार्वजनिक कार्यक्रम।…\n",
      "RT @narendramodi: Vibrant and colourful Uttarayan celebrations at the ‘Statue of Unity.’ Have a look... https://t.co/jz246L3uqX\n",
      "RT @narendramodi: This year’s first #MannKiBaat will be held on a very special day, the 26th of January!\n",
      "\n",
      "Share your special ideas for this…\n",
      "RT @narendramodi: Here is my message at the programme marking 50 years of Thuglak. Paid tributes to the versatile and indomitable Cho, high…\n",
      "RT @BJP4India: India supports Citizenship Amendment Act - 2019. #IndiaSupportsCAA https://t.co/DBid7HDL6V\n",
      "RT @BJP4Bengal: অপপ্রচারে কান না দিয়ে মানুষ বলছে - শরণার্থীদের কষ্ট বুঝেছে একমাত্র মোদী সরকার। \n",
      "\n",
      "তাই, ধন্যবাদ মোদী জী #IndiaSupportsCAA ht…\n",
      "RT @BJP4Bengal: নাগরিকত্ব সংশোধনী আইন নিয়ে অপপ্রচারকারীদের মানুষ চিনে নিয়েছে...\n",
      "\n",
      "মানুষ বলছে - শরণার্থীদের কষ্ট বুঝেছে একমাত্র মোদী সরকার।…\n",
      "RT @narendramodi: Greetings on Uttarayan! https://t.co/GvLdUX0P2n\n",
      "RT @MukulR_Official: Overwhelming support for the rally in support of CAA at Uluberia. #CAAJanJagran #IndiaSupportsCAA https://t.co/7IF2qpV…\n",
      "RT @BJP4Serampore: We Salute  INDIAN ARMY..\n",
      "#indianarmyday #IndianArmy \n",
      "@BoseShymal @BJP4Bengal @BJP4India @PMOIndia @narendramodi @AmitSha…\n",
      "RT @BJP4Serampore: অন্তঃসত্ত্বাকে কাঁধে চাপিয়ে ৪ ঘণ্টা বরফের রাস্তা পেরোলেন জওয়ানরা, মানবিকতার নজির  গড়লেন সেনা দিবসে।জয় জওয়ান।\n",
      "#India…\n",
      "RT @BJP4Bengal: দক্ষিণ দিনাজপুর জেলায় CAA এর সমর্থনে অভিনন্দন যাত্রায় উপস্থিত ছিলেন রাজ্য সাধারণ সম্পাদক শ্রী \n",
      "@basusayan মাননীয় সাংসদ…\n",
      "RT @BJP4Bengal: উলুবেড়িয়ায় CAA\"র সমর্থনে 'অভিনন্দন যাত্রা'য় উপস্থিত শ্রী @MukulR_Official , রাজ্য সহ সভানেত্রী শ্রীমতি @BharatiGhoshbjp…\n",
      "RT @BJP4Bengal: বর্ধমান পূর্ব (সাঃ কাটোয়া) জেলায় পূর্বস্থলী উত্তর বিধানসভায় CAA\"র সমর্থনে 'অভিনন্দন যাত্রা'য় উপস্থিত ছিলেন রাজ্য সাধারণ…\n",
      "RT @DilipGhoshBJP: Attended 50 years' celebration of Tanua Swamivivekananda Vidyamandir (Mohanpur Block). \n",
      "#ConstituencyVisit https://t.co/…\n",
      "RT @BJP4Bengal: নাগরিকত্ব সংশোধনী আইন নিয়ে অপপ্রচার করে যারা মানুষদের ভয় দেখাবার অপচেষ্টা করছেন তাদের থেকে সতর্ক থাকুন...\n",
      "\n",
      "#CAAJanJagran…\n",
      "RT @narendramodi: Attended the @raisinadialogue in New Delhi. Over the years, this has emerged as a vibrant forum for discussing important…\n",
      "RT @BJP4India: I challenge the Congress leadership to come on camera and say if they have any doubts about the Pulwama attacks. If they hav…\n",
      "RT @sambitswaraj: Here’s an article on Left party’s website:\n",
      "“At this point, I call to all my fellow liberals who are practising Hindus, or…\n",
      "RT @BJP4India: India supports Citizenship Amendment Act - 2019. #IndiaSupportsCAA https://t.co/a165LIv1VS\n",
      "RT @amitmalviya: This letter, signed by over 200 Vice Chancellors and leading academicians, published and discussed across media channels,…\n",
      "RT @DilipGhoshBJP: Tonight joined \"Shyam Kirtan\" at Bidhan Sishu Udyan, Salt Lake (Kolkata). https://t.co/JeRduuqdlz\n",
      "RT @subratowb: কেন CAA জন জাগরণ দরকার ?\n",
      "কারণ জানালেন @AmitShah https://t.co/gGNg29TLLF\n",
      "RT @BJP4Bengal: বাংলাদেশ থেকে আসা নমঃশুদ্র ও মতুয়া সমাজের মানুষকে নাগরিকত্ব দিতে মমতা ব্যানার্জীর সমস্যা হচ্ছে কেন?\n",
      "কারণ, মমতা ব্যানার্জী…\n",
      "RT @PiyushGoyal: चिनाब नदी पर विश्व के सबसे ऊंचे पुल के निर्माण का कार्य निरंतर जारी है जिसे हमारे   इंजीनियर पूरे दृढ़ निश्चय के साथ तय सम…\n",
      "RT @me_locket: Balurghat rape and murder incident, a repeat of Hyderabad-like incident. Must watch video! https://t.co/6zsNANWCX1\n",
      "RT @BJP4Bengal: মোদীজি যখন এয়ার স্ট্রাইক ও সার্জিকাল স্ট্রাইক করলেন মমতা দি ও রাহুল গান্ধী প্রমান চাইলেন...  \n",
      "\n",
      "কিন্তু, প্রশ্ন হচ্ছে - ইমরা…\n",
      "RT @amitmalviya: \"I realise... it was false news\".\n",
      "\n",
      "This realisation came after a legal case was slapped and one didn't have an option but…\n",
      "RT @amitmalviya: Revealing report by Times Now on the role of Pakistan’s deep state in inciting and influencing the anti-CAA narrative. Whi…\n",
      "RT @BJP4Bengal: অত্যাচারিত হয়ে শরণার্থী রূপে বাংলাদেশ থেকে ভারতে আসা মতুয়া ও নমঃশুদ্র সম্প্রদায়ের মানুষরা কোথায় গেলেন? : শ্রী @AmitShah…\n",
      "RT @BJP4Bengal: নদীয়া জেলার রানাঘাটে শরণার্থীদের নাগরিকত্ব প্রদানের জন্য অভিনন্দন যাত্রায় উপস্থিত রাজ্য সভাপতি শ্রী @DilipGhoshBJP , সাংস…\n",
      "RT @Sunil_Deodhar: Thank you for your insightful speech @sambitswaraj ji. Covering all aspects, you gave an amazing speech which made every…\n",
      "RT @prosun01: বাংলাদেশ থেকে আসা নমঃশুদ্র ও মতুয়া সমাজের মানুষকে নাগরিকত্ব দিতে মমতা ব্যানার্জীর সমস্যা হচ্ছে কেন?\n",
      "কারণ, মমতা ব্যানার্জী ভো…\n",
      "RT @amitmalviya: This is how Kolkata welcomed PM Modi..! #BengalWelcomesModi https://t.co/OfqMnJQTf2\n",
      "It's a superficial view, pl. go through the root cause of CAA, why it's amended, the truth is in the partiyon of In… https://t.co/wBpYaFOKHW\n",
      "#SatyaNadella, u are misinformed, unjust, done injustice to yourself, we hail u'r global involvement &amp; also proud f… https://t.co/m1nTyPufAZ\n",
      "The changing history of India &amp; due respect to our great son of BHARAT MATA Bharat kesari Dr. Shyamaprasad is one o… https://t.co/LPTGkoBEdq\n",
      "RT @narendramodi: Greetings to Dr. Murli Manohar Joshi Ji on his birthday. Joshi Ji has made an indelible contribution to our country durin…\n",
      "RT @BJP4Bengal: LIVE : PM Shri Narendra Modi addresses Sesquicetenary Celebration of Kolkata Port\n",
      "\n",
      "https://t.co/LvWZFGrMbX https://t.co/cqc…\n",
      "RT @BJP4India: गुजरात के नारणपुरा विधानसभा क्षेत्र में आयोजित कार्यकर्ता सम्मेलन में लोगों ने नागरिकता संशोधन अधिनियम - 2019 के समर्थन में…\n",
      "RT @jay_majumdar: PM Narendra Midi ji has delivered a splendid speech today.\n",
      "He urged Mamata government not stop Garib Kalyan projects in W…\n",
      "RT @narendramodi: Greetings to EAM @DrSJaishankar Ji on his birthday. Dr. Jaishankar has distinguished himself as an outstanding civil serv…\n",
      "RT @BJP4Bengal: আমার প্রিয় পশ্চিমবাংলার ভাই ও বোনেদের ইংরেজি নববর্ষের শুভেচ্ছা। \n",
      "\n",
      "সকলকে আসন্ন মকরসংক্রান্তির শুভেচ্ছা : প্রধানমন্ত্রী শ্রী…\n",
      "RT @DrRPNishank: World's only intergovernmental organization, #CommonwealthofLearning encourages open learning/distance education knowledge…\n",
      "RT @BJP4Bengal: রাহুল গান্ধী, কেজরিওয়াল, কমিউনিস্ট এবং মমতা ব্যানার্জী সব এক সাথে মানুষদের ভুল বোঝাচ্ছেন তাই আমাদের 'জন জাগরণ' কর্মসূচি :…\n",
      "RT @BJP4India: पश्चिम बंगाल सरकार आयुष्मान भारत, पीएम किसान सम्मान निधि के लिए स्वीकृति देगी तो यहां के लोगों को इन योजनाओं का लाभ मिलने ल…\n",
      "RT @BJP4Bengal: যুবসমাজের প্রাণপুরুষ 'বীর সন্ন্যাসী' স্বামী বিবেকানন্দের জন্মদিবসে সশ্রদ্ধ প্রনাম। https://t.co/BgkKNPQ7Ml\n",
      "RT @i_rakeshkundu: দরিদ্র, শোষিত ও পিছিয়ে পড়া মানুষের উন্নয়নের জন্য চেষ্টা না করে অনেকে রাজনীতি করেন - তাঁদের উদ্দেশে ঈশ্বরের কাছে প্রধা…\n",
      "RT @Krishanu_Singh: ব্যবহারই ব্যক্তির,ব্যক্তির শিক্ষা ও সংস্কৃতির পরিচায়ক।\n",
      "আমি গর্বিত এরকম একটি রাজনৈতিক দলের অংশ হতে পেরে ও এমন একজন মহান…\n",
      "RT @ManojPandey_BJP: भारत के ज्ञान और संस्कार को समर्पण के साथ विश्व के पटल पर बहुत प्रभावशाली ढंग से रखा था। ये महमनाब ही नही इस युग के दे…\n",
      "RT @Monika_Indi: Iconic Howrah Bridge. Good job Kolkata Port, oops from now on known as Dr. Shyama Prasad Mookerjee Port. https://t.co/Wuha…\n",
      "RT @BJP4India: कोलकाता पोर्ट सिर्फ जहाजों के आने-जाने का स्थान नहीं है, ये इतिहास को अपने आप में समेटे हुए है।\n",
      "\n",
      "इस पोर्ट ने भारत को विदेशी…\n",
      "RT @RakeshBoseBJP: Both Narendras are my hero..... #MyHeroNarendra https://t.co/GZi9bsSKBb\n",
      "RT @BjpBiplab: বেলুড়মঠে প্রধানমন্ত্রী নরেন্দ্র মোদীজীর সম্বোধন।\n",
      "\n",
      "যুবারাই এই ভ্রম দূর করছে\n",
      "\n",
      "আমি অত্যন্ত খুশি যে যুবারাই ঐ মানুষগুলির ভ্রম…\n",
      "RT @narendramodi: Sharing some glimpses from the programme marking 150 years of the Kolkata Port. https://t.co/yBSNwuld5O\n",
      "RT @narendramodi_in: After being rejected by people, how violence has become the Left's calling card, writes Union Minister @smritiirani\n",
      "ht…\n",
      "RT @dpradhanbjp: Hon. PM Shri @narendramodi Ji has given unprecedented and unparalleled  importance and focus to the development of Eastern…\n",
      "RT @Samikbjp: স্বামী বিবেকানন্দের জন্মস্থলের কিছু মুহূর্ত।\n",
      "#SwamiVivekanandaJayanti\n",
      "#NationalYouthDay https://t.co/LhWTOtV2gu\n",
      "RT @shishirkb: Arise awake and Stop Not till\n",
      "The Goal is reached https://t.co/gAUMvKt4Nt\n",
      "RT @HarsimratBadal_: Youth power can propel our country to even greater heights. On #NationalYouthDay I urge youth to become the catalyst o…\n",
      "RT @narendramodi: Marking 150 years of Kolkata Port. Watch. https://t.co/gGycbT48P9\n",
      "RT @AmitShah: जबलपुर, मध्य प्रदेश में नागरिकता संशोधन कानून 2019 के समर्थन में आयोजित जन-जागरण अभियान को सम्बोधित किया।\n",
      "\n",
      "विपक्ष ने CAA पर अ…\n",
      "RT @PMOIndia: हमारी सरकार ये मानती है कि हमारे Coasts, विकास के Gateways हैं। इसलिए सरकार ने Coasts पर कनेक्टिविटी और वहां के इंफ्रास्ट्रक्…\n",
      "RT @BJP4India: Modi Govt has delivered ‘A December to Remember’ en route to New India.\n",
      "\n",
      "1. Citizenship Amendment Act passed\n",
      "2. National Inf…\n",
      "RT @mansukhmandviya: Hon PM Sh @narendramodi ji unveiled the commemorative plaque &amp; installation denoting unity &amp; association portraying th…\n",
      "RT @BJP4Bengal: আজ থেকে কলকাতা পোর্ট ' ডঃ শ্যামাপ্রসাদ মুখার্জী' পোর্ট হিসাবে পুনঃনামকরনের ঘোষণা করা হলো। \n",
      "\n",
      "ডঃ শ্যামাপ্রসাদ মুখার্জী একজন…\n",
      "RT @BJP4Bengal: ধর্মীয় কারণে অত্যাচারের শিকার হওয়া শরণার্থীদের জন্যই সিএএ : শ্রী @shivprakashbjp জীর সিএএ-নিয়ে নিবন্ধ - \n",
      "পড়ুন ও পড়ান -…\n",
      "RT @JPNadda: जब संस्कृति और विकास का संगम होता है, तो ऐसा अद्वितीय नजारा होता है... \n",
      "\n",
      "Musical dynamic facade lighting at the iconic Rabindr…\n",
      "RT @BJP4Bengal: রাজ্য সরকার যদি আয়ুষ্মান ভারত প্রকল্পের অনুমতি করে দেন তাহলে পশ্চিমবঙ্গের গরিব, অসহায় মানুষরা উপকৃত হতেন। \n",
      "অনুমতি দেবেন…\n",
      "RT @DilipGhoshBJP: When Hon'ble Prime Minister, Shri @narendramodi ji reached Netaji Indoor stadium to address Karyakram \n",
      "on #150YearsOfKol…\n",
      "RT @subratowb: আজ থেকে কলকাতা পোর্ট 'ডঃ শ্যামাপ্রসাদ মুখার্জী পোর্ট' পুনঃনামকরণ করলেন প্রধানমন্ত্রী শ্রী @narendramodi । https://t.co/SoWUE…\n",
      "RT @RakeshBoseBJP: ঈশ্বরের কাছে প্রার্থনা করি ঈশ্বর নীতি নির্ধারকদের সৎ বুদ্ধি প্রদান করুন,বাংলার মানুষের সেই শক্তি আছে, তাঁদের আর বঞ্চিত…\n",
      "RT @BJP4India: कमलनाथ जी जोर-जोर से कहते हैं CAA लागू नहीं होगा।\n",
      "\n",
      "अरे कमलनाथ जी ये जोर से बोलने की आयु नहीं है आपकी, स्वास्थ्य बिगड़ जाएगा।…\n",
      "RT @BJP4Bengal: ঈশ্বরের কাছে প্রার্থনা করি, নীতি নির্ধারকদের সৎ বুদ্ধি প্রদান করুন।\n",
      "\n",
      "বাংলার মানুষের সেই শক্তি আছে, তাঁদেরকে আর বঞ্চিত রাখা…\n",
      "RT @BJP4India: कांग्रेस वालों कान खोल कर सुन लो, CAA का जितना विरोध करना है करो।\n",
      "\n",
      "शरणार्थियों को नागरिकता देकर ही हम दम लेंगे: श्री @AmitSh…\n",
      "RT @narendramodi: Celebrating the extraordinary contribution of those who worked round the clock to make the Kolkata Port a leading one \n",
      "\n",
      "G…\n",
      "RT @PMOIndia: इस योजना के तहत करीब 6 लाख करोड़ रुपए से अधिक के पौने 6 सौ प्रोजेक्ट्स की पहचान की जा चुकी है। इनमें से 3 लाख करोड़ रुपए से अ…\n",
      "RT @mansukhmandviya: During the sesquicentennial celebrations of @kopt_port, Hon @PMOIndia Sh @narendramodi ji felicitated ex-employees age…\n",
      "RT @JPNadda: दिल्ली की मोती नगर और पटेल नगर विधानसभाओं की संगठनात्मक बैठक को संबोधित किया।\n",
      "\n",
      "दिल्ली सरकार ने केंद्र सरकार की जनकल्याणकारी यो…\n",
      "RT @Samikbjp: আজ রাজভবনে মাননীয় প্রধানমন্ত্রী শ্রী নরেন্দ্র মোদী জীর সাথে পশ্চিমবঙ্গ বিজেপির কোর কমিটির বৈঠকের কিছু বিশেষ মুহূর্ত। https:/…\n",
      "RT @MenonArvindBJP: आज स्वामी विवेकानंद जी की जयंती पर स्वामी जी के निवास स्थान पर जाकर उन्हें नमन किया और भारत के युवाओं की शक्ति का इस्ते…\n",
      "RT @BJP4India: कांग्रेस वालों कान खोल कर सुन लो, जितना विरोध करना है करो, ये सारे लोगों को नागरिकता देकर ही हम दम लेंगे।\n",
      "\n",
      "भारत पर जितना अधि…\n"
     ]
    }
   ],
   "source": [
    "print('\\n'.join(t['text'] for t in timeline))"
   ]
  },
  {
   "cell_type": "code",
   "execution_count": null,
   "metadata": {},
   "outputs": [],
   "source": []
  }
 ],
 "metadata": {
  "kernelspec": {
   "display_name": "Python 3",
   "language": "python",
   "name": "python3"
  },
  "language_info": {
   "codemirror_mode": {
    "name": "ipython",
    "version": 3
   },
   "file_extension": ".py",
   "mimetype": "text/x-python",
   "name": "python",
   "nbconvert_exporter": "python",
   "pygments_lexer": "ipython3",
   "version": "3.7.4"
  }
 },
 "nbformat": 4,
 "nbformat_minor": 2
}
